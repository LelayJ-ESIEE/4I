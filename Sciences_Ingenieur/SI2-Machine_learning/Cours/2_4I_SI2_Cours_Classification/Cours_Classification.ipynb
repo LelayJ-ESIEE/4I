{
 "cells": [
  {
   "cell_type": "markdown",
   "metadata": {},
   "source": [
    "#Table of Contents\n",
    "* [\n",
    "Classification de messages](#\n",
    "Classification-de-messages)\n",
    "\t* [Introduction](#Introduction)\n",
    "\t\t* [Position du problème:](#Position-du-problème:)\n",
    "\t\t* [Extraction de paramètres pour les données textuelles](#Extraction-de-paramètres-pour-les-données-textuelles)\n",
    "\t* [Représentation en sac-de-mots](#Représentation-en-sac-de-mots)\n",
    "\t\t* [Réduction de la taille du vocabulaire](#Réduction-de-la-taille-du-vocabulaire)\n",
    "\t\t\t* [Suppression des mots très usuels (stop words)](#Suppression-des-mots-très-usuels-%28stop-words%29)\n",
    "\t\t\t* [Extraction du lemme des mots (lemmatization) ou de la racine des mots (stemming)](#Extraction-du-lemme-des-mots-%28lemmatization%29-ou-de-la-racine-des-mots-%28stemming%29)\n",
    "\t\t* [Transformation des sacs de mots par TF-IDF (Term Frequency - Inverse Document frequency)](#Transformation-des-sacs-de-mots-par-TF-IDF-%28Term-Frequency---Inverse-Document-frequency%29)\n",
    "\t* [II Classification par l'algorithme des K-Moyennes (K-Means)](#II-Classification-par-l'algorithme-des-K-Moyennes-%28K-Means%29)\n",
    "\t\t* [Algorithme des K-Moyennes](#Algorithme-des-K-Moyennes)\n",
    "\t\t\t* [Problème des conditions initiales - Optimum local](#Problème-des-conditions-initiales---Optimum-local)\n",
    "\t\t\t* [Problème du choix du nombre de classes - méthode du coude (elbow method)](#Problème-du-choix-du-nombre-de-classes---méthode-du-coude-%28elbow-method%29)\n"
   ]
  },
  {
   "cell_type": "markdown",
   "metadata": {},
   "source": [
    "#  Classification de messages"
   ]
  },
  {
   "cell_type": "markdown",
   "metadata": {},
   "source": [
    "## Introduction"
   ]
  },
  {
   "cell_type": "markdown",
   "metadata": {},
   "source": [
    "### Position du problème:"
   ]
  },
  {
   "cell_type": "markdown",
   "metadata": {},
   "source": [
    "Dans ce cours nous allons mettre en oeuvre une technique d'apprentissage non supervisé pour une application de classification (clustering). L'apprentissage est dit non supervisé car on ne connait pas a priori les classes ni même leur nombre. Il s'agit à partir d'un ensemble de données de regrouper celles-ci par ressemblance c'est à dire de mettre dans un même groupe des données semblables et dans des groupes distincts des données différant notablement les unes des autres.\n",
    "L'exemple que nous traiterons en TP (en l'introduisant dans ce cours) est celui consistant à regrouper les messages (de type question ou réponse) reçus sur un site web de type forum de discussion. Lorsqu'un utilisateur parcourt un tel site à la recherche d'une information particulière le moteur de recherche va vraisemblablement lui proposer un ensemble de questions réponses lié à sa requête. L'approche naïve consisterait à trouver la ressemblance avec tous les messages disponibles sur le site et de proposer à l'utilisateur le ou les messages les plus semblables  mais cette mesure de ressemblance serait extrêmement complexe et coûteuse. Il est préférable d'avoir préalablement partitionné l'ensemble des messages en groupes (clusters). Ainsi au lieu de mesurer la ressemblance de la nouvelle requête avec l'ensemble des messages il suffit de la mesurer avec ces différents clusters (puis éventuellement avec les messages de ce cluster le plus proche). \n",
    "Les deux principaux points que nous allons examiner pour mettre en oeuvre cette application sont:\n",
    "\n",
    "- l'extraction de paramètres à partir de données textuelles. C'est une tâche importante et un objet d'étude à part entière qui appartient au domaine du Traitement du Langage Naturel (Natural Langage Processing). Nous utiliserons, outre certains modules de scikit learn, un ensemble de librairies Python appelé [NLTK (Natural Language ToolKit)](http://www.nltk.org/) pour réaliser cette tâche. Vous pourrez trouver dans ce bouquin [Python Text Processing with NLTK Cookbook](http://caio.ueberalles.net/ebooksclub.org__Python_Text_Processing_with_NLTK_2_0_Cookbook.pdf) des recettes abondantes pour utiliser au mieux cet outil.\n",
    "- la mise en oeuvre d'une technique de classification basée sur l'algorithme des centres mobiles (ACM), l'algorithme KMeans (K-moyennes)."
   ]
  },
  {
   "cell_type": "code",
   "execution_count": 1,
   "metadata": {
    "format": "column"
   },
   "outputs": [
    {
     "data": {
      "application/javascript": [
       "IPython.load_extensions('calico-spell-check', 'calico-document-tools', 'calico-cell-tools');\n"
      ],
      "text/plain": [
       "<IPython.core.display.Javascript object>"
      ]
     },
     "metadata": {},
     "output_type": "display_data"
    }
   ],
   "source": [
    "%%javascript\n",
    "IPython.load_extensions('calico-spell-check', 'calico-document-tools', 'calico-cell-tools');\n",
    "\n"
   ]
  },
  {
   "cell_type": "markdown",
   "metadata": {
    "slideshow": {
     "slide_type": "notes"
    }
   },
   "source": [
    "### Extraction de paramètres pour les données textuelles"
   ]
  },
  {
   "cell_type": "markdown",
   "metadata": {
    "slideshow": {
     "slide_type": "-"
    }
   },
   "source": [
    "La technique classiquement employée pour fournir un vecteur d'entrée à partir de données textuelles est de même type (à la base) que celle utilisée pour les données catégorielles. \n",
    "Rappelons que ces données catégorielles représentent des informations (non quantitatives) de type catégorie. Quelques exemples:\n",
    "les grades à l'ESIEE, l'état d'un bien sur E-Bay (neuf, bon état, usagé), le lieu d'un bien immobilier,... Pour ces données, cela n'a pas de sens de moyenner les valeurs. S'il existe K possibilités pour une donnée de ce type on la codera par un \"1-of-K\" vecteur (un vecteur binaire dont une composante est à un et les autres à zéro) plutot que par un entier compris entre 1 et K. On l'appelle aussi encodage one-hot. L'intéret est que la distance élémentaire entre deux données quelconques ainsi codées sera identique (cet encodage n'introduit pas un ordre artificiel entre les données) et que la moyenne de telles données donnera la proportion de chacune des catégories.\n",
    " \n",
    "Prenons l'exemple du prix de l'immobilier qui dépend du lieu du bien à acheter ou vendre et supposons que les 3 villes qui nous intéressent soient Paris Lyon et Marseille. Il n'est pas possible de \"moyenner\" Marseille avec Paris. Le codage de la ville sera de type one_hot et aura les 3 valeurs possibles d'un vecteur binaire à 3 composantes: (1 0 0), (0 1 0), (0 0 1). La classe DictVectorizer de Scikit-learn permet un tel encodage: [DictVectorizer](http://scikit-learn.org/stable/modules/generated/sklearn.feature_extraction.DictVectorizer.html). Elle transforme des listes d'association paramètre : valeur en numpy array. "
   ]
  },
  {
   "cell_type": "markdown",
   "metadata": {},
   "source": [
    "Nous allons maintenant présenter la représentation usuelle des données textuelles pour des applications d'apprentissage automatique. Il s'agit de la représentation en **sac-de-mots** (bag-of_words model) et ses variations..."
   ]
  },
  {
   "cell_type": "markdown",
   "metadata": {},
   "source": [
    "## Représentation en sac-de-mots"
   ]
  },
  {
   "cell_type": "markdown",
   "metadata": {},
   "source": [
    "C'est une extension de la représentation one-hot vue précédemment. \n",
    "\"Dans sa version la plus simple, un document particulier est représenté par l'histogramme des occurrences des mots le composant: pour un document donné, chaque mot se voit affecté le nombre de fois qu'il apparaît dans le document. Un document est donc représenté par un vecteur de la même taille que le dictionnaire, dont la composante i indique le nombre d'occurrences du i-ème mot du dictionnaire dans le document.\" source: [Wikipedia](http://fr.wikipedia.org/wiki/Sac_de_mots) .\n",
    "Cette représentation n'encode pas la syntaxe du texte ni l'ordre des mots ni aucune information de grammaire. L'intérêt est sa simplicité et le fait que l'on puisse a priori considérer que des documents contenant des mots semblables ont de bonnes chances de refléter des contenus de significations similaires. L'expérience montre qu'effectivement cette représentation, bien qu'assez rudimentaire, permet d'effectuer des taches de classification ou discrimination ou recherche.\n",
    "Mettons en oeuvre cette représentation sur un exemple simple. Créons un corpus de quelques phrases(en français), comportant des mots en commun (ou pas). \n",
    "Nous allons de nouveau utiliser une classe de scikit learn qui est cette fois [CountVectorizer](http://scikit-learn.org/stable/modules/generated/sklearn.feature_extraction.text.CountVectorizer.html) pour faire la représentation de ces phrases en sac-de-mots."
   ]
  },
  {
   "cell_type": "code",
   "execution_count": 32,
   "metadata": {},
   "outputs": [
    {
     "name": "stdout",
     "output_type": "stream",
     "text": [
      "taille du corpus :  5\n",
      "taille du vocabulaire :  16\n",
      "{'vous': 12, 'êtes': 15, 'excellents': 4, 'les': 6, 'étudiants': 13, 'sont': 10, 'souvent': 11, 'aiment': 0, 'bien': 1, 'rigoler': 8, 'est': 2, 'excellent': 3, 'pour': 7, 'la': 5, 'santé': 9, 'étudier': 14}\n",
      "[[0 0 0 0 1 0 0 0 0 0 0 0 1 0 0 1]\n",
      " [0 0 0 0 1 0 1 0 0 0 1 1 0 1 0 0]\n",
      " [1 1 0 0 0 0 1 0 1 0 0 0 0 1 0 0]\n",
      " [0 0 1 1 0 1 0 1 1 1 0 0 0 0 0 0]\n",
      " [0 0 1 1 0 0 0 0 0 0 0 0 0 0 1 0]]\n"
     ]
    }
   ],
   "source": [
    "corpus=['Vous êtes excellents', 'Les étudiants sont souvent excellents', \n",
    "        'Les étudiants aiment bien rigoler', 'Rigoler est excellent pour la santé','étudier est excellent']\n",
    "\n",
    "from sklearn.feature_extraction.text import CountVectorizer\n",
    "vectorizer = CountVectorizer()\n",
    "\n",
    "vectorizer.fit(corpus)\n",
    "X = vectorizer.transform(corpus)\n",
    "M,P=X.shape\n",
    "\n",
    "print(\"taille du corpus : \",M)\n",
    "print(\"taille du vocabulaire : \",P)\n",
    "print(vectorizer.vocabulary_)\n",
    "print (X.toarray())\n"
   ]
  },
  {
   "cell_type": "markdown",
   "metadata": {},
   "source": [
    "Nous pouvons calculer la distance euclidienne entre ces différents messages:\n"
   ]
  },
  {
   "cell_type": "code",
   "execution_count": 3,
   "metadata": {},
   "outputs": [
    {
     "name": "stdout",
     "output_type": "stream",
     "text": [
      "[[ 0.00  2.45  2.83  3.00  2.45]\n",
      " [ 2.45  0.00  2.45  3.32  2.83]\n",
      " [ 2.83  2.45  0.00  3.00  2.83]\n",
      " [ 3.00  3.32  3.00  0.00  2.24]\n",
      " [ 2.45  2.83  2.83  2.24  0.00]]\n"
     ]
    }
   ],
   "source": [
    "import numpy as np\n",
    "np.set_printoptions(formatter={'float': '{: 0.2f}'.format})\n",
    "from sklearn.metrics.pairwise import euclidean_distances\n",
    "dist_corpus=euclidean_distances(X)\n",
    "print(dist_corpus)\n"
   ]
  },
  {
   "cell_type": "markdown",
   "metadata": {},
   "source": [
    "On peut aussi calculer la distance d'un nouveau message à ce corpus."
   ]
  },
  {
   "cell_type": "code",
   "execution_count": 4,
   "metadata": {},
   "outputs": [
    {
     "name": "stdout",
     "output_type": "stream",
     "text": [
      "[[1 0 0 0 0 0 1 0 1 0 0 0 0 0 0 0]]\n",
      "[[ 2.45  2.45  1.41  2.65  2.45]]\n"
     ]
    }
   ],
   "source": [
    "mess=\"les profs aiment rigoler aussi \"\n",
    "y=vectorizer.transform([mess]) # attention ce [] est nécessaire\n",
    "dist_to_y=euclidean_distances(y,X)\n",
    "print(y.toarray())\n",
    "print(dist_to_y)"
   ]
  },
  {
   "cell_type": "markdown",
   "metadata": {},
   "source": [
    "Si on imagine un corpus réel (quelques milliers de documents), le vocabulaire de ce corpus sera de très grande taille, de l'ordre de quelques dizaines (ou même centaines) de milliers de mots. Pour chacun des documents de ce corpus, la plupart des mots seront absents et donc les vecteurs représentant ces documents seront très grands (de la taille du vocabulaire) mais auront la plupart de leurs composantes nulles. On parle de vecteurs clairsemés ou creux (sparse vector). \n",
    "Cela pose un problème de taille mémoire (pris en compte de façon assez efficace par numpy), et aussi de dimension: plus la dimension est grande plus il faut a priori un grand nombre de données d'apprentissage pour que toutes les combinaisons de paramètres soient envisagées. Sinon l' algorithme d'apprentissage risque d'être (trop) parfaitement adapté aux données d'apprentissage (overfitting) et incapable de généraliser (de s'adapter à des documents nouveaux).\n",
    "Nous allons examiner maintenant quelques stratégies employées pour réduire la dimension des vecteurs sac_de_mots.\n",
    "Remarquons qu'il y a à la base une réduction de vocabulaire introduite par le fait qu'il n'y a pas eu de distinction majuscule/minuscule: tous les mots sont convertis en minuscules."
   ]
  },
  {
   "cell_type": "markdown",
   "metadata": {},
   "source": [
    "### Réduction de la taille du vocabulaire"
   ]
  },
  {
   "cell_type": "markdown",
   "metadata": {},
   "source": [
    "#### Suppression des mots très usuels (stop words)"
   ]
  },
  {
   "cell_type": "markdown",
   "metadata": {},
   "source": [
    "La première idée est de ne pas prendre en compte les mots tels que les articles (le, la), les verbes auxilliaires (avoir,être,...) avec toutes leurs conjugaisons, les conjonctions ou mots de liaison (mais, sur,...), bref tous les mots très usuels qui ont un rôle très important dans la syntaxe et la grammaire mais n'apportent aucune information sur le sens du document et le sujet sur lequel il porte. On appelle ces mots des **stop_words**. Il est possible de filtrer ces mots en utilisant l'argument stop_words de la classe **CountVectorizer**."
   ]
  },
  {
   "cell_type": "markdown",
   "metadata": {},
   "source": [
    "La boite à outils NLTK procure des listes de tels mots dans différents langage dont le français. Pour pouvoir utiliser cette boite il faut :\n",
    "- charger NLTK\n",
    "- l'installer\n",
    "- l'installer pour de vrai par les commandes suivantes dans une console Python\n"
   ]
  },
  {
   "cell_type": "code",
   "execution_count": 5,
   "metadata": {},
   "outputs": [],
   "source": [
    "import nltk\n",
    "#nltk.download()\n",
    "#cette instruction lance un installateur NLTK qui vous demande si vous voulez le package complet ou pas ...\n",
    "#ça prend ensuite un certain temps (long) ...\n"
   ]
  },
  {
   "cell_type": "code",
   "execution_count": 6,
   "metadata": {},
   "outputs": [
    {
     "name": "stdout",
     "output_type": "stream",
     "text": [
      "['au', 'aux', 'avec', 'ce', 'ces', 'dans', 'de', 'des', 'du', 'elle', 'en', 'et', 'eux', 'il', 'je', 'la', 'le', 'leur', 'lui', 'ma', 'mais', 'me', 'même', 'mes', 'moi', 'mon', 'ne', 'nos', 'notre', 'nous', 'on', 'ou', 'par', 'pas', 'pour', 'qu', 'que', 'qui', 'sa', 'se', 'ses', 'son', 'sur', 'ta', 'te', 'tes', 'toi', 'ton', 'tu', 'un', 'une', 'vos', 'votre', 'vous', 'c', 'd', 'j', 'l', 'à', 'm', 'n', 's', 't', 'y', 'été', 'étée', 'étées', 'étés', 'étant', 'étante', 'étants', 'étantes', 'suis', 'es', 'est', 'sommes', 'êtes', 'sont', 'serai', 'seras', 'sera', 'serons', 'serez', 'seront', 'serais', 'serait', 'serions', 'seriez', 'seraient', 'étais', 'était', 'étions', 'étiez', 'étaient', 'fus', 'fut', 'fûmes', 'fûtes', 'furent', 'sois', 'soit', 'soyons', 'soyez', 'soient', 'fusse', 'fusses', 'fût', 'fussions', 'fussiez', 'fussent', 'ayant', 'ayante', 'ayantes', 'ayants', 'eu', 'eue', 'eues', 'eus', 'ai', 'as', 'avons', 'avez', 'ont', 'aurai', 'auras', 'aura', 'aurons', 'aurez', 'auront', 'aurais', 'aurait', 'aurions', 'auriez', 'auraient', 'avais', 'avait', 'avions', 'aviez', 'avaient', 'eut', 'eûmes', 'eûtes', 'eurent', 'aie', 'aies', 'ait', 'ayons', 'ayez', 'aient', 'eusse', 'eusses', 'eût', 'eussions', 'eussiez', 'eussent'] 155\n"
     ]
    }
   ],
   "source": [
    "from nltk.corpus import stopwords\n",
    "stwf=stopwords.words('french')\n",
    "print(stwf,len(stwf))\n"
   ]
  },
  {
   "cell_type": "code",
   "execution_count": 7,
   "metadata": {},
   "outputs": [
    {
     "name": "stdout",
     "output_type": "stream",
     "text": [
      "['i', 'me', 'my', 'myself', 'we', 'our', 'ours', 'ourselves', 'you', \"you're\", \"you've\", \"you'll\", \"you'd\", 'your', 'yours', 'yourself', 'yourselves', 'he', 'him', 'his', 'himself', 'she', \"she's\", 'her', 'hers', 'herself', 'it', \"it's\", 'its', 'itself', 'they', 'them', 'their', 'theirs', 'themselves', 'what', 'which', 'who', 'whom', 'this', 'that', \"that'll\", 'these', 'those', 'am', 'is', 'are', 'was', 'were', 'be', 'been', 'being', 'have', 'has', 'had', 'having', 'do', 'does', 'did', 'doing', 'a', 'an', 'the', 'and', 'but', 'if', 'or', 'because', 'as', 'until', 'while', 'of', 'at', 'by', 'for', 'with', 'about', 'against', 'between', 'into', 'through', 'during', 'before', 'after', 'above', 'below', 'to', 'from', 'up', 'down', 'in', 'out', 'on', 'off', 'over', 'under', 'again', 'further', 'then', 'once', 'here', 'there', 'when', 'where', 'why', 'how', 'all', 'any', 'both', 'each', 'few', 'more', 'most', 'other', 'some', 'such', 'no', 'nor', 'not', 'only', 'own', 'same', 'so', 'than', 'too', 'very', 's', 't', 'can', 'will', 'just', 'don', \"don't\", 'should', \"should've\", 'now', 'd', 'll', 'm', 'o', 're', 've', 'y', 'ain', 'aren', \"aren't\", 'couldn', \"couldn't\", 'didn', \"didn't\", 'doesn', \"doesn't\", 'hadn', \"hadn't\", 'hasn', \"hasn't\", 'haven', \"haven't\", 'isn', \"isn't\", 'ma', 'mightn', \"mightn't\", 'mustn', \"mustn't\", 'needn', \"needn't\", 'shan', \"shan't\", 'shouldn', \"shouldn't\", 'wasn', \"wasn't\", 'weren', \"weren't\", 'won', \"won't\", 'wouldn', \"wouldn't\"] 179\n"
     ]
    }
   ],
   "source": [
    "stwe=stopwords.words('english')\n",
    "print(stwe,len(stwe))"
   ]
  },
  {
   "cell_type": "code",
   "execution_count": 8,
   "metadata": {},
   "outputs": [
    {
     "name": "stdout",
     "output_type": "stream",
     "text": [
      "taille du vocabulaire après suppression des stop_words :  10\n",
      "{'excellents': 3, 'les': 4, 'étudiants': 8, 'souvent': 7, 'aiment': 0, 'bien': 1, 'rigoler': 5, 'excellent': 2, 'santé': 6, 'étudier': 9}\n",
      "[[0 0 0 1 0 0 0 0 0 0]\n",
      " [0 0 0 1 1 0 0 1 1 0]\n",
      " [1 1 0 0 1 1 0 0 1 0]\n",
      " [0 0 1 0 0 1 1 0 0 0]\n",
      " [0 0 1 0 0 0 0 0 0 1]]\n",
      "[[ 0.00  1.73  2.45  2.00  1.73]\n",
      " [ 1.73  0.00  2.24  2.65  2.45]\n",
      " [ 2.45  2.24  0.00  2.45  2.65]\n",
      " [ 2.00  2.65  2.45  0.00  1.73]\n",
      " [ 1.73  2.45  2.65  1.73  0.00]]\n"
     ]
    }
   ],
   "source": [
    "vectorizer=CountVectorizer(stop_words=stwf)\n",
    "X = vectorizer.fit_transform(corpus)\n",
    "dico=vectorizer.vocabulary_\n",
    "Ns=len(dico)\n",
    "print(\"taille du vocabulaire après suppression des stop_words : \",Ns)\n",
    "print(dico)\n",
    "print(X.toarray())\n",
    "dist_corpus=euclidean_distances(X)\n",
    "print(dist_corpus)"
   ]
  },
  {
   "cell_type": "markdown",
   "metadata": {},
   "source": [
    "Remarquons qu'il semble étrange de ne pas avoir 'les' comme stop_word en français. On pourrait bien sûr le rajouter:"
   ]
  },
  {
   "cell_type": "code",
   "execution_count": 9,
   "metadata": {},
   "outputs": [
    {
     "name": "stdout",
     "output_type": "stream",
     "text": [
      "{'excellents': 3, 'étudiants': 7, 'souvent': 6, 'aiment': 0, 'bien': 1, 'rigoler': 4, 'excellent': 2, 'santé': 5, 'étudier': 8}\n"
     ]
    }
   ],
   "source": [
    "stwf.append('les')\n",
    "vectorizer=CountVectorizer(stop_words=stwf)\n",
    "X = vectorizer.fit_transform(corpus)\n",
    "dico=vectorizer.vocabulary_\n",
    "print(dico)"
   ]
  },
  {
   "cell_type": "markdown",
   "metadata": {},
   "source": [
    "Pour travailler en anglais il suffit de préciser:"
   ]
  },
  {
   "cell_type": "code",
   "execution_count": 10,
   "metadata": {},
   "outputs": [],
   "source": [
    "vectorizer = CountVectorizer(stop_words='english')"
   ]
  },
  {
   "cell_type": "markdown",
   "metadata": {},
   "source": [
    "#### Extraction du lemme des mots (lemmatization) ou de la racine des mots (stemming)"
   ]
  },
  {
   "cell_type": "markdown",
   "metadata": {},
   "source": [
    "Il existe pour chaque langue et pour un grand nombre de mots de cette langue un sous-ensemble de mots dérivés,par exmple les différentes conjugaisons d'un verbe ou bien les mots ayant la même \"racine\", par exemple {probable, probabilité, probablement}.  L'objectif pour réduire la taille du vocabulaire et donc des vecteurs représentant les messages ou documents est donc de ne conserver qu'un élément de ce sous ensemble. Il existe deux procédés pour atteindre ce but qui sont la lemmatisation ou racinisation.\n",
    "\n",
    "- La [lemmatisation](http://fr.wikipedia.org/wiki/Lemmatisation) d'un mot consiste à conserver sa forme canonique (lemme) qui est définie pour un verbe par sa forme à l'infinitif et pour les autres mots par le mot au singulier.\n",
    "Ce procédé nécessite une connaissance lexicale approfondie. NLTK fournit l'outil WordNetLemmatizer pour réaliser cette opération mais elle nécessite plusieurs étapes (il faut en particulier préciser à l'outil si le mot est un verbe ou un nom) et nous ne l'utiliserons pas dans le cadre de ce cours.\n",
    "\n",
    "- La [racinisation](http://fr.wikipedia.org/wiki/Racinisation) (stemming en anglais) consiste à conserver la racine de ce mot une fois que l’on a supprimé son (ses) préfixe(s) et suffixe(s). Contrairement au lemme qui correspond à un mot réel de la langue, la racine ne correspond généralement pas à un mot réel. Par exemple, le mot « chercher » a pour radical « cherch » qui ne correspond pas à un mot réel. Par contre dans l’exemple de « frontal » , le radical est « front » qui lui l’est. Il existe plusieurs algorithmes (stemmers) qui opèrent cette suppression des suffixes (et préfixes). L'un des plus connus est celui de Porter. Les références bibliographiques déja citées sur l'apprentissage automatique  (*Gavin Hackeling, Willi Richert*) utilisent l'algorithme de Porter et le SnowballStemmer respectivement, deux des stemmers implantés par NLTK. Suivant le cas il faut préciser le langage dans lequel on travaille ou non. Les résultats sont parfois curieux.\n"
   ]
  },
  {
   "cell_type": "code",
   "execution_count": 11,
   "metadata": {},
   "outputs": [
    {
     "name": "stdout",
     "output_type": "stream",
     "text": [
      "dict_keys(['excellents', 'étudiants', 'souvent', 'aiment', 'bien', 'rigoler', 'excellent', 'santé', 'étudier'])\n",
      "['searching', 'lemmatization', 'imaging', 'fantastically', 'fantastic', 'actuality', 'image']\n",
      "Porter Stemmer : ['excel', 'étudiant', 'souvent', 'aiment', 'bien', 'rigol', 'excel', 'santé', 'étudier']\n",
      "Porter Stemmer : ['search', 'lemmat', 'imag', 'fantast', 'fantast', 'actual', 'imag']\n",
      "French Snowball Stemmer : ['excellent', 'étudi', 'souvent', 'aiment', 'bien', 'rigol', 'excellent', 'sant', 'étudi']\n",
      "English Snowball Stemmer : ['search', 'lemmat', 'imag', 'fantast', 'fantast', 'actual', 'imag']\n"
     ]
    }
   ],
   "source": [
    "from nltk.stem import PorterStemmer,SnowballStemmer\n",
    "list_words=['searching','lemmatization','imaging','fantastically','fantastic','actuality','image']\n",
    "print(dico.keys())\n",
    "print(list_words)\n",
    "Pstemmer=PorterStemmer()\n",
    "print( 'Porter Stemmer :',[Pstemmer.stem (word) for word in dico.keys()])\n",
    "print('Porter Stemmer :',[Pstemmer.stem (word) for word in list_words])\n",
    "SFstemmer=SnowballStemmer('french')\n",
    "SEstemmer=SnowballStemmer('english')\n",
    "print( 'French Snowball Stemmer :',[SFstemmer.stem (word) for word in dico.keys()])\n",
    "print('English Snowball Stemmer :',[SEstemmer.stem (word) for word in list_words])"
   ]
  },
  {
   "cell_type": "markdown",
   "metadata": {},
   "source": [
    "En pratique il sera nécessaire de procéder à la lemmatisation des documents avant de les transformer en sac-de-mots par la classe CountVectorizer.  Il est possible de créer une nouvelle classe StemmedCountVectorizer qui hérite de CountVectorizer en modifiant (altérant) la methode build_analyser de celle-ci. \n",
    "Le principe est le suivant : (extrait d'un [cours Python](http://learnpythonthehardway.org/book/ex44.html))\n",
    "\n",
    "class Parent(object):\n",
    "\n",
    "    def altered(self):\n",
    "        print \"PARENT altered()\"\n",
    "\n",
    "class Child(Parent):\n",
    "\n",
    "    def altered(self):\n",
    "        print \"CHILD, BEFORE PARENT altered()\"\n",
    "        super(Child, self).altered()\n",
    "        print \"CHILD, AFTER PARENT altered()\"\n",
    "\n",
    "dad = Parent()\n",
    "\n",
    "son = Child()\n",
    "\n",
    "dad.altered()\n",
    "\n",
    "son.altered()"
   ]
  },
  {
   "cell_type": "code",
   "execution_count": 12,
   "metadata": {},
   "outputs": [],
   "source": [
    "import nltk.stem\n",
    "english_stemmer=nltk.stem.SnowballStemmer('english')\n",
    "class EnglishStemmedCountVectorizer(CountVectorizer): #EnglishStemmedCountVectorizer hérite de CountVectorizer\n",
    "    def build_analyzer(self):\n",
    "        analyzer = super(EnglishStemmedCountVectorizer, self).build_analyzer()\n",
    "        return lambda doc: (english_stemmer.stem(w) for w in analyzer(doc))\n",
    "Evectorizer = EnglishStemmedCountVectorizer(min_df=1, stop_words='english')"
   ]
  },
  {
   "cell_type": "code",
   "execution_count": 13,
   "metadata": {},
   "outputs": [],
   "source": [
    "french_stemmer=nltk.stem.SnowballStemmer('french')\n",
    "class FrenchStemmedCountVectorizer(CountVectorizer):#FrenchStemmedCountVectorizer hérite de CountVectorizer\n",
    "    def build_analyzer(self):\n",
    "        analyzer = super(FrenchStemmedCountVectorizer, self).build_analyzer()\n",
    "        return lambda doc: (french_stemmer.stem(w) for w in analyzer(doc))\n",
    "Fvectorizer = FrenchStemmedCountVectorizer(min_df=1, stop_words=stwf)"
   ]
  },
  {
   "cell_type": "markdown",
   "metadata": {},
   "source": [
    "Servons nous de la version française pour réduire ou simplifier notre corpus... et recalculons les distances avec le message test."
   ]
  },
  {
   "cell_type": "code",
   "execution_count": 14,
   "metadata": {},
   "outputs": [
    {
     "name": "stdout",
     "output_type": "stream",
     "text": [
      "{'excellent': 2, 'étudi': 6, 'souvent': 5, 'aiment': 0, 'bien': 1, 'rigol': 3, 'sant': 4}\n",
      "[[0 0 1 0 0 0 0]\n",
      " [0 0 1 0 0 1 1]\n",
      " [1 1 0 1 0 0 1]\n",
      " [0 0 1 1 1 0 0]\n",
      " [0 0 1 0 0 0 1]]\n",
      "[[ 1.73  2.24  1.41  1.73  2.00]]\n"
     ]
    }
   ],
   "source": [
    "X = Fvectorizer.fit_transform(corpus)\n",
    "dico=Fvectorizer.vocabulary_\n",
    "print(dico)\n",
    "print(X.toarray())\n",
    "y=Fvectorizer.transform({mess})\n",
    "dist_to_y=euclidean_distances(y,X)\n",
    "print(dist_to_y)"
   ]
  },
  {
   "cell_type": "markdown",
   "metadata": {},
   "source": [
    "Pour rappel, le corpus et le message test"
   ]
  },
  {
   "cell_type": "code",
   "execution_count": 15,
   "metadata": {},
   "outputs": [
    {
     "name": "stdout",
     "output_type": "stream",
     "text": [
      "['Vous êtes excellents', 'Les étudiants sont souvent excellents', 'Les étudiants aiment bien rigoler', 'Rigoler est excellent pour la santé', 'étudier est excellent']\n",
      "les profs aiment rigoler aussi \n"
     ]
    }
   ],
   "source": [
    "print(corpus)\n",
    "print(mess)"
   ]
  },
  {
   "cell_type": "markdown",
   "metadata": {},
   "source": [
    "### Transformation des sacs de mots par TF-IDF (Term Frequency - Inverse Document frequency)"
   ]
  },
  {
   "cell_type": "markdown",
   "metadata": {},
   "source": [
    "Jusqu'à présent nous avons cherché à limiter la taille des vecteurs (sacs-de-mots) représentant les messages ou documents que l'on souhaite classifier. Nous n'avons pas remis en question le contenu même des composantes de ces vecteurs. Ce sont simplement des nombres d'occurences des mots du dictionnaire dans les messages. Nous disposons donc pour chaque terme t (appartenant au dictionnaire retenu, après suppression des mots courants et lemmatisation) et pour chaque document doc du corpus, du nombre $n(t,doc)$ qui est le nombre de fois où t apparait dans doc. Plusieurs imperfections peuvent être relevées à l'encontre de cette simple paramétrisation.\n",
    "\n",
    "- Tout d'abord, il se peut qu'un terme apparaisse le même nombre de fois dans deux documents mais que ces documents n'aient pas du tout la même taille. Il convient donc de toute façon de \"normaliser\" ce nombre n(t,doc) de façon à obtenir la **fréquence de ce terme** (**T**erm **F**requency) par rapport à l'ensemble des mots du document. Ceci s'obtient par: $f(t,doc)=\\frac{n(t,doc)}{Card(doc)}$\n",
    "- Par ailleurs si un terme apparait souvent dans un document mais qu'il apparait par ailleurs souvent dans de nombreux autres documents, ce terme n'est pas discriminant pour le corpus considéré. Il convient donc de relativiser sa fréquence en utilisant un facteur multiplicatif nommé **IDF** (Inverse Document Frequency) qui s'obtient suivant : $IDF(t)=log(\\frac{Card(\\{doc\\})}{Card(\\{doc/ t\\in doc\\})})$. \n",
    "  - si le terme t apparait dans tous les documents IDF(t) est nul\n",
    "  - si le terme apparait seulement dans un document appartenant à un corpus de M documents, ce facteur IDF(t) vaut $log(M)$.\n",
    "  \n",
    "Une implémentation simple de cette fonction en python est donnée ci après:  \n"
   ]
  },
  {
   "cell_type": "code",
   "execution_count": 16,
   "metadata": {},
   "outputs": [
    {
     "name": "stdout",
     "output_type": "stream",
     "text": [
      "Pour le terme a dans le document ['a'] : tf = 1.00,idf = 0.00,tfidf  = 0.00 \n",
      "Pour le terme a dans le document ['a', 'b', 'b'] : tf = 0.33,idf = 0.00,tfidf  = 0.00 \n",
      "Pour le terme b dans le document ['a', 'b', 'b'] : tf = 0.67,idf = 0.41,tfidf  = 0.27 \n",
      "Pour le terme b dans le document ['a', 'b', 'b'] : tf = 0.67,idf = 0.41,tfidf  = 0.27 \n",
      "Pour le terme a dans le document ['a', 'b', 'c'] : tf = 0.33,idf = 0.00,tfidf  = 0.00 \n",
      "Pour le terme b dans le document ['a', 'b', 'c'] : tf = 0.33,idf = 0.41,tfidf  = 0.14 \n",
      "Pour le terme c dans le document ['a', 'b', 'c'] : tf = 0.33,idf = 1.10,tfidf  = 0.37 \n"
     ]
    }
   ],
   "source": [
    "import math\n",
    "def tfidf(term,doc,corpus):\n",
    "    tf=float(doc.count(term))/len(doc)\n",
    "    idf=math.log(float(len(corpus))/len([docu for docu in corpus if term in docu]))\n",
    "    return tf,idf,tf*idf\n",
    "\n",
    "doc1,doc2,doc3=[\"a\"],[\"a\",\"b\",\"b\"]  ,[\"a\",\"b\",\"c\"] \n",
    "mini_corpus =[doc1,doc2,doc3]\n",
    "for doc in mini_corpus:\n",
    "    for t in doc:\n",
    "        tf,idf,tf_idf=tfidf(t,doc,mini_corpus)\n",
    "        print(\"Pour le terme {0} dans le document {1} : tf = {2:.2f},idf = {3:.2f},tfidf  = {4:.2f} \".format(t,doc,tf,idf,tf_idf))"
   ]
  },
  {
   "cell_type": "markdown",
   "metadata": {},
   "source": [
    "Il existe une classe de sklearn qui opère cette technique pour obtenir des  vecteurs de composantes tf-idf au lieu des sac-de-mots rudimentaires . C'est la classe [TfidfVectorizer](http://scikit-learn.org/stable/modules/generated/sklearn.feature_extraction.text.TfidfVectorizer.html). Il est cependant nécessaire si on veut opérer la lemmatisation avant de construire ces vecteurs tf-idf de procéder à la création d'une nouvelle classe StemmedTfidfVectorizer, comme nous l'avons fait précédemment pour StemmedCountVectorizer."
   ]
  },
  {
   "cell_type": "code",
   "execution_count": 17,
   "metadata": {},
   "outputs": [],
   "source": [
    "from sklearn.feature_extraction.text import TfidfVectorizer\n",
    "import nltk.stem\n",
    "french_stemmer=nltk.stem.SnowballStemmer('french')\n",
    "class FrenchStemmedTfidfVectorizer(TfidfVectorizer):#FrenchStemmedTfidVectorizer hérite de TfidVectorizer\n",
    "    def build_analyzer(self):\n",
    "        analyzer = super(FrenchStemmedTfidfVectorizer, self).build_analyzer()\n",
    "        return lambda doc: (french_stemmer.stem(w) for w in analyzer(doc))\n",
    "ftvectorizer = FrenchStemmedTfidfVectorizer(min_df=1, stop_words=stwf,decode_error='ignore')"
   ]
  },
  {
   "cell_type": "markdown",
   "metadata": {},
   "source": [
    "On peut appliquer la methode fit_transform de cette classe sur notre corpus initial."
   ]
  },
  {
   "cell_type": "code",
   "execution_count": 18,
   "metadata": {},
   "outputs": [
    {
     "name": "stdout",
     "output_type": "stream",
     "text": [
      "taille du vocabulaire après suppression des stop_words :  7\n",
      "{'excellent': 2, 'étudi': 6, 'souvent': 5, 'aiment': 0, 'bien': 1, 'rigol': 3, 'sant': 4}\n",
      "X après TfIdf\n",
      "[[ 0.00  0.00  1.00  0.00  0.00  0.00  0.00]\n",
      " [ 0.00  0.00  0.42  0.00  0.00  0.75  0.50]\n",
      " [ 0.57  0.57  0.00  0.46  0.00  0.00  0.38]\n",
      " [ 0.00  0.00  0.40  0.58  0.71  0.00  0.00]\n",
      " [ 0.00  0.00  0.64  0.00  0.00  0.00  0.77]]\n",
      "matrice des distances\n",
      "[[ 0.00  1.07  1.41  1.09  0.84]\n",
      " [ 1.07  0.00  1.27  1.29  0.83]\n",
      " [ 1.41  1.27  0.00  1.21  1.19]\n",
      " [ 1.09  1.29  1.21  0.00  1.22]\n",
      " [ 0.84  0.83  1.19  1.22  0.00]]\n",
      "[[ 1.41  1.41  0.74  1.13  1.41]]\n"
     ]
    }
   ],
   "source": [
    "corpus=['Vous êtes excellents', 'Les étudiants sont souvent excellents', \n",
    "        'Les étudiants aiment bien rigoler', 'Rigoler est excellent pour la santé','étudier est excellent']\n",
    "\n",
    "X = ftvectorizer.fit_transform(corpus)\n",
    "dico=ftvectorizer.vocabulary_\n",
    "Ps=len(dico)\n",
    "print(\"taille du vocabulaire après suppression des stop_words : \",Ps)\n",
    "print(dico)\n",
    "print('X après TfIdf')\n",
    "print(X.toarray())\n",
    "dist_corpus=euclidean_distances(X)\n",
    "print('matrice des distances')\n",
    "print(dist_corpus)\n",
    "y=ftvectorizer.transform({mess})\n",
    "dist_to_y=euclidean_distances(y,X)\n",
    "print(dist_to_y)"
   ]
  },
  {
   "cell_type": "markdown",
   "metadata": {},
   "source": [
    "## Classification par l'algorithme des K-Moyennes (K-Means)"
   ]
  },
  {
   "cell_type": "markdown",
   "metadata": {},
   "source": [
    "Rappelons que la classification (clustering) est une technique d'apprentissage non supervisée dans laquelle on dispose de données brutes ou observations. L'objectif est de regrouper les données ayant des ressemblances de telle façon que les membres d'un groupe soient plus semblables entre eux qu'ils ne le sont de n'importe quel membre d'un autre groupe. Les groupes ainsi formés pourront éventuellement être considérés comme des classes ayant une certaine signification et pouvant donner lieu à des méthodes de discrimination (permettant de classer de nouvelles données). \n",
    "Cette tâche est donc souvent associée à une phase exploratoire des données.\n",
    "\n",
    "Nous présentons ici l'algorithme des K-Moyennes, très connu et apprécié pour sa simplicité de mise en oeuvre et son efficacité pour effectuer cet apprentissage pour un nombre de groupes fixé (à K). Il est aussi conçu pour optimiser le critère \"naturel\" (de la somme des inerties) qui permet de mesurer les performances du classificateur. Parfois le nombre de groupes est fixé a priori par le contexte du problème de classification, par exemple si l'on souhaite distinguer a priori trois types d'acheteurs pour concevoir trois produits adaptés à ces types. Cependant ce nombre de groupes n'est pas toujours évident à choisir  et nous montrerons comment déterminer a posteriori un \"bon\" nombre de groupes K. \n",
    "Considérons l'exemple suivant de données en 2D:"
   ]
  },
  {
   "cell_type": "code",
   "execution_count": 19,
   "metadata": {},
   "outputs": [],
   "source": [
    "%matplotlib inline"
   ]
  },
  {
   "cell_type": "code",
   "execution_count": 52,
   "metadata": {},
   "outputs": [
    {
     "name": "stdout",
     "output_type": "stream",
     "text": [
      "(200, 2)\n"
     ]
    },
    {
     "data": {
      "text/plain": [
       "<matplotlib.collections.PathCollection at 0x7efd1e41d780>"
      ]
     },
     "execution_count": 52,
     "metadata": {},
     "output_type": "execute_result"
    },
    {
     "data": {
      "image/png": "[encoded data removed]",
      "text/plain": [
       "<matplotlib.figure.Figure at 0x7efd1e4265c0>"
      ]
     },
     "metadata": {},
     "output_type": "display_data"
    }
   ],
   "source": [
    "import matplotlib.pyplot as plt\n",
    "import numpy as np\n",
    "cluster1 = np.random.normal(0,1, (100, 2))\n",
    "cluster2 = np.random.normal(2,1, (100, 2))\n",
    "X = np.vstack((cluster1, cluster2))\n",
    "print(X.shape)\n",
    "plt.scatter(X[:,0],X[:,1])"
   ]
  },
  {
   "cell_type": "markdown",
   "metadata": {},
   "source": [
    "Les questions posées par la classification sont : y a t-il un regroupement de ces données en 2 groupes qui soit optimal ? est il préférable de considérer 3 groupes, ou 4? "
   ]
  },
  {
   "cell_type": "markdown",
   "metadata": {},
   "source": [
    "### Algorithme des K-Moyennes"
   ]
  },
  {
   "cell_type": "markdown",
   "metadata": {},
   "source": [
    "Les paramètres de cet algorithme sont les centres de gravité (centroid) des groupes constitués et l'assignation pour chacune des observations de son groupe. Ces paramètres sont trouvés en minimisant le **critère de la somme des inerties** qui est la somme des distances des observations au centre de gravité de la classe qui leur est assignée. Ce critère s'écrit:\n",
    "$$J =  \\sum_{k=1}^{K}\\sum_{i \\in C_k} \\left\\| x_i - \\mu_k \\right\\|^2$$\n",
    "\n",
    "Dans cette équation $C_k$ désigne le groupe (cluster) k, $\\mu_k$ désigne le centre de gravité (appelé aussi centre d'inertie) du groupe k.\n",
    "Pour le groupe k, $\\sum_{i \\in C_k} \\left\\| x_i - \\mu_k \\right\\|^2$ désigne la somme des distances des observations assignées à ce groupe au centre de ce groupe et représente l'inertie de ce groupe. Plus cette inertie est grande plus le groupe est dipersé, plus elle est faible plus le groupe est compact.\n",
    "L'algorithme des K-moyennes est un algorithme itératif qui minimise ce critère J. \n",
    "\n",
    "- Au départ, les centres sont initialisés à des valeurs arbitraires (aléatoires). En pratique on choisit comme centres initiaux K observations choisies au hasard.\n",
    "- A chaque itération, l'algorithme :\n",
    "  - assigne à chaque observation le groupe dont le centre est le plus proche de cette observation.\n",
    "  - recalcule le centre d'inertie du groupe ainsi constitué.\n",
    "  \n",
    "Déroulons un petit exemple à la main."
   ]
  },
  {
   "cell_type": "code",
   "execution_count": 46,
   "metadata": {},
   "outputs": [
    {
     "data": {
      "image/png": "[encoded data removed]",
      "text/plain": [
       "<matplotlib.figure.Figure at 0x7efd1b17f438>"
      ]
     },
     "metadata": {},
     "output_type": "display_data"
    }
   ],
   "source": [
    "plt.scatter(X[:,0],X[:,1],s=40)\n",
    "plt.axis('equal')\n",
    "#Choisissons comme premiers centres deux points de la base au hasard\n",
    "ind=np.random.randint(0,20,2)\n",
    "mu=X[ind,:]\n",
    "step=0\n",
    "plt.scatter(mu[:,0],mu[:,1],c='r',marker='*',s=100,alpha=0.5,label=['centres step :', step])\n",
    "plt.legend(loc=(1.05,1.05),scatterpoints = 1)\n",
    "critere=np.zeros((10,))"
   ]
  },
  {
   "cell_type": "markdown",
   "metadata": {},
   "source": [
    "Calculons les distances des observations à chacun de ces centres et choisissons pour chacune le centre le plus proche. Profitons en pour calculer l'inertie.Puis recalculons les centroides pour l'étape suivante."
   ]
  },
  {
   "cell_type": "code",
   "execution_count": 49,
   "metadata": {},
   "outputs": [
    {
     "name": "stdout",
     "output_type": "stream",
     "text": [
      "critere de la somme des inerties :     27.64\n"
     ]
    },
    {
     "data": {
      "image/png": "[encoded data removed]",
      "text/plain": [
       "<matplotlib.figure.Figure at 0x7efd1afeb748>"
      ]
     },
     "metadata": {},
     "output_type": "display_data"
    }
   ],
   "source": [
    "import numpy as np\n",
    "import scipy.spatial.distance as scd\n",
    "#1 : calcul des distances des observations aux centres\n",
    "d=scd.cdist(X,mu)\n",
    "#2 : choix du centre le plus proche: assignation de la classe de chaque observation\n",
    "ass=np.argmin(d, axis=1)\n",
    "#print(ass)\n",
    "color=('g','b')\n",
    "K=len(mu)\n",
    "#3 : représentation des observations classées et calcul des inerties par classe\n",
    "I=np.zeros((K,))\n",
    "for k in range(K):\n",
    "    plt.scatter(X[ass==k,0],X[ass==k,1],c=color[k],s=40)\n",
    "    I[k]=np.sum(d[ass==k,k])#inertie de la classe k\n",
    "critere[step]= np.sum(I)   \n",
    "print('critere de la somme des inerties :{:10.2f}'.format(critere[step]))    \n",
    "plt.axis('equal')\n",
    "#représentation des centres initiaux\n",
    "plt.scatter(mu[:,0],mu[:,1],c='r',marker='*',s=100,alpha=0.5,label=['centres step :', step])\n",
    "#4 : re-calcul des centres des classes\n",
    "mu_new=mu\n",
    "step=step+1\n",
    "for k in range(K):\n",
    "    mu_new[k]=np.mean(X[ass==k,:],axis=0)\n",
    "#représentation des centres finaux    \n",
    "plt.scatter(mu[:,0],mu[:,1],c='y',marker='o',s=100,alpha=0.5,label=['centres step :', step])\n",
    "plt.legend(loc=(1.05,1.05),scatterpoints = 1)\n",
    "mu=mu_new  \n",
    "#print(d)"
   ]
  },
  {
   "cell_type": "code",
   "execution_count": 50,
   "metadata": {},
   "outputs": [
    {
     "data": {
      "text/plain": [
       "<matplotlib.text.Text at 0x7efd1af4c5c0>"
      ]
     },
     "execution_count": 50,
     "metadata": {},
     "output_type": "execute_result"
    },
    {
     "data": {
      "image/png": "[encoded data removed]",
      "text/plain": [
       "<matplotlib.figure.Figure at 0x7efd1b002828>"
      ]
     },
     "metadata": {},
     "output_type": "display_data"
    }
   ],
   "source": [
    "plt.plot(range(step),critere[0:step])\n",
    "plt.title('évolution du critère de la somme des inerties')\n",
    "plt.xlabel('step')"
   ]
  },
  {
   "cell_type": "markdown",
   "metadata": {},
   "source": [
    "On peut maintenant utiliser la classe KMeans de scikit learn pour appliquer l'algorithme sur cette même base. Bien sur il n'y aura plus le bel affichage à chaque étape mais bon... on peut tout de même afficher le résultat final."
   ]
  },
  {
   "cell_type": "code",
   "execution_count": 53,
   "metadata": {},
   "outputs": [
    {
     "name": "stdout",
     "output_type": "stream",
     "text": [
      "Initialization complete\n",
      "start iteration\n",
      "done sorting\n",
      "end inner loop\n",
      "Iteration 0, inertia 353.1048057491413\n",
      "start iteration\n",
      "done sorting\n",
      "end inner loop\n",
      "Iteration 1, inertia 325.55273114453826\n",
      "start iteration\n",
      "done sorting\n",
      "end inner loop\n",
      "Iteration 2, inertia 318.99390674424257\n",
      "start iteration\n",
      "done sorting\n",
      "end inner loop\n",
      "Iteration 3, inertia 316.061976116853\n",
      "start iteration\n",
      "done sorting\n",
      "end inner loop\n",
      "Iteration 4, inertia 315.7162820229624\n",
      "start iteration\n",
      "done sorting\n",
      "end inner loop\n",
      "Iteration 5, inertia 315.7162820229624\n",
      "center shift 0.000000e+00 within tolerance 1.968665e-04\n",
      "Initialization complete\n",
      "start iteration\n",
      "done sorting\n",
      "end inner loop\n",
      "Iteration 0, inertia 333.10250624565504\n",
      "start iteration\n",
      "done sorting\n",
      "end inner loop\n",
      "Iteration 1, inertia 321.61029566697\n",
      "start iteration\n",
      "done sorting\n",
      "end inner loop\n",
      "Iteration 2, inertia 316.061976116853\n",
      "start iteration\n",
      "done sorting\n",
      "end inner loop\n",
      "Iteration 3, inertia 315.7162820229624\n",
      "start iteration\n",
      "done sorting\n",
      "end inner loop\n",
      "Iteration 4, inertia 315.7162820229624\n",
      "center shift 0.000000e+00 within tolerance 1.968665e-04\n",
      "Initialization complete\n",
      "start iteration\n",
      "done sorting\n",
      "end inner loop\n",
      "Iteration 0, inertia 326.3577973264355\n",
      "start iteration\n",
      "done sorting\n",
      "end inner loop\n",
      "Iteration 1, inertia 316.061976116853\n",
      "start iteration\n",
      "done sorting\n",
      "end inner loop\n",
      "Iteration 2, inertia 315.7162820229624\n",
      "start iteration\n",
      "done sorting\n",
      "end inner loop\n",
      "Iteration 3, inertia 315.7162820229624\n",
      "center shift 0.000000e+00 within tolerance 1.968665e-04\n",
      "Initialization complete\n",
      "start iteration\n",
      "done sorting\n",
      "end inner loop\n",
      "Iteration 0, inertia 318.80546995821726\n",
      "start iteration\n",
      "done sorting\n",
      "end inner loop\n",
      "Iteration 1, inertia 316.11042175071225\n",
      "start iteration\n",
      "done sorting\n",
      "end inner loop\n",
      "Iteration 2, inertia 316.11042175071225\n",
      "center shift 0.000000e+00 within tolerance 1.968665e-04\n",
      "Initialization complete\n",
      "start iteration\n",
      "done sorting\n",
      "end inner loop\n",
      "Iteration 0, inertia 408.2618728751655\n",
      "start iteration\n",
      "done sorting\n",
      "end inner loop\n",
      "Iteration 1, inertia 333.10250624565504\n",
      "start iteration\n",
      "done sorting\n",
      "end inner loop\n",
      "Iteration 2, inertia 321.61029566697\n",
      "start iteration\n",
      "done sorting\n",
      "end inner loop\n",
      "Iteration 3, inertia 316.061976116853\n",
      "start iteration\n",
      "done sorting\n",
      "end inner loop\n",
      "Iteration 4, inertia 315.7162820229624\n",
      "start iteration\n",
      "done sorting\n",
      "end inner loop\n",
      "Iteration 5, inertia 315.7162820229624\n",
      "center shift 0.000000e+00 within tolerance 1.968665e-04\n",
      "[ 110.56  117.04] 227.60063237746647\n"
     ]
    },
    {
     "data": {
      "image/png": "[encoded data removed]",
      "text/plain": [
       "<matplotlib.figure.Figure at 0x7efd1b344d30>"
      ]
     },
     "metadata": {},
     "output_type": "display_data"
    }
   ],
   "source": [
    "from sklearn.cluster import KMeans\n",
    "clust=KMeans(n_clusters=2,n_init=5,verbose=1)\n",
    "Ckm=clust.fit_predict(X) # pour obtenir les labels (n° classe) de chaque élément de la base\n",
    "Xd=clust.transform(X) #pour avoir les distances de chaque élément aux centres des clusters\n",
    "#affichage final de la base classée et des centres\n",
    "for k in range(2):\n",
    "    plt.scatter(X[Ckm==k,0],X[Ckm==k,1],c=color[k],s=40)\n",
    "    I[k]=np.sum(Xd[Ckm==k,k])#inertie de la classe k\n",
    "plt.scatter(clust.cluster_centers_[:,0],clust.cluster_centers_[:,1],c='y',marker='o',s=100)\n",
    "\n",
    "print(I,sum(I))"
   ]
  },
  {
   "cell_type": "markdown",
   "metadata": {},
   "source": [
    "Tout est identique au programme maison sauf le critère de la somme des inerties, bizarre, bizarre..."
   ]
  },
  {
   "cell_type": "markdown",
   "metadata": {},
   "source": [
    "#### Problème des conditions initiales - Optimum local"
   ]
  },
  {
   "cell_type": "markdown",
   "metadata": {},
   "source": [
    "On peut observer que l'évolution des centres et des classes varie avec le choix des centres initial. Il est certain que le critère décroit vers un minimum mais celui ci peut dans certains cas être un minimum local. Pour résoudre ce problème cet algorithme des K-moyennes est relancé plusieurs fois (de l'ordre de la dizaine ou même centaine de fois) avec des conditions initiales différentes (aléatoires). L'initialisation qui conduit au critère final minimum est retenue."
   ]
  },
  {
   "cell_type": "markdown",
   "metadata": {},
   "source": [
    "#### Problème du choix du nombre de classes - méthode du coude (elbow method)"
   ]
  },
  {
   "cell_type": "markdown",
   "metadata": {},
   "source": [
    "Si K n'est pas spécifié par le contexte du problème il est important de pouvoir estimer le \"meilleur\" choix pour K.\n",
    "Il est évident qu'à mesure que K croit le critère final de la somme des inerties J décroit (à la limite, si on choisit un nombre de classes K égal au nombre de données , le critère vaut 0). La méthode du coude consiste à repérer la valeur de K pour laquelle la courbe de décroissance de J forme un coude: avant cette valeur J décroit fortement à chaque incrément de K, après la décroissance est beaucoup plus faible.  K est  \"optimal\"  lorsque l'amélioration (la décroissance relative du critère) chute après cette valeur. Illustrons cette technique."
   ]
  },
  {
   "cell_type": "code",
   "execution_count": 57,
   "metadata": {},
   "outputs": [
    {
     "name": "stdout",
     "output_type": "stream",
     "text": [
      "(800, 2)\n"
     ]
    },
    {
     "data": {
      "text/plain": [
       "<matplotlib.collections.PathCollection at 0x7efd1b291198>"
      ]
     },
     "execution_count": 57,
     "metadata": {},
     "output_type": "execute_result"
    },
    {
     "data": {
      "image/png": "[encoded data removed]",
      "text/plain": [
       "<matplotlib.figure.Figure at 0x7efd1e42c208>"
      ]
     },
     "metadata": {},
     "output_type": "display_data"
    }
   ],
   "source": [
    "import numpy as np\n",
    "sigma=0.55\n",
    "x1 = np.random.normal(2,sigma, 200)\n",
    "y1 = np.random.normal(2,sigma, 200)\n",
    "x2 = np.random.normal(5,sigma, 200)\n",
    "y2 = np.random.normal(5,sigma, 200)\n",
    "x3 = np.random.normal(0,sigma, 200)\n",
    "y3 = np.random.normal(4,sigma, 200)\n",
    "x4 = np.random.normal(6,sigma, 200)\n",
    "y4 = np.random.normal(2,sigma, 200)\n",
    "x=np.hstack((x1,x2,x3,x4))\n",
    "y=np.hstack((y1,y2,y3,y4))\n",
    "X=np.vstack((x,y)).T\n",
    "print(X.shape)\n",
    "plt.scatter(X[:,0],X[:,1])"
   ]
  },
  {
   "cell_type": "code",
   "execution_count": 58,
   "metadata": {},
   "outputs": [
    {
     "name": "stdout",
     "output_type": "stream",
     "text": [
      "************************************\n",
      "K =  1\n",
      "Initialization complete\n",
      "Iteration  0, inertia 14623.780\n",
      "Iteration  1, inertia 6501.915\n",
      "Converged at iteration 1: center shift 0.000000e+00 within tolerance 4.063697e-04\n",
      "Initialization complete\n",
      "Iteration  0, inertia 18423.453\n",
      "Iteration  1, inertia 6501.915\n",
      "Converged at iteration 1: center shift 0.000000e+00 within tolerance 4.063697e-04\n",
      "Initialization complete\n",
      "Iteration  0, inertia 17185.270\n",
      "Iteration  1, inertia 6501.915\n",
      "Converged at iteration 1: center shift 0.000000e+00 within tolerance 4.063697e-04\n",
      "************************************\n",
      "K =  2\n",
      "Initialization complete\n",
      "start iteration\n",
      "done sorting\n",
      "end inner loop\n",
      "Iteration 0, inertia 2327.091084217397\n",
      "start iteration\n",
      "done sorting\n",
      "end inner loop\n",
      "Iteration 1, inertia 2301.4614293288823\n",
      "start iteration\n",
      "done sorting\n",
      "end inner loop\n",
      "Iteration 2, inertia 2301.4614293288823\n",
      "center shift 0.000000e+00 within tolerance 4.063697e-04\n",
      "Initialization complete\n",
      "start iteration\n",
      "done sorting\n",
      "end inner loop\n",
      "Iteration 0, inertia 2310.0604447877804\n",
      "start iteration\n",
      "done sorting\n",
      "end inner loop\n",
      "Iteration 1, inertia 2301.4614293288823\n",
      "start iteration\n",
      "done sorting\n",
      "end inner loop\n",
      "Iteration 2, inertia 2301.4614293288823\n",
      "center shift 0.000000e+00 within tolerance 4.063697e-04\n",
      "Initialization complete\n",
      "start iteration\n",
      "done sorting\n",
      "end inner loop\n",
      "Iteration 0, inertia 2555.9080777625413\n",
      "start iteration\n",
      "done sorting\n",
      "end inner loop\n",
      "Iteration 1, inertia 2320.9055564112314\n",
      "start iteration\n",
      "done sorting\n",
      "end inner loop\n",
      "Iteration 2, inertia 2301.4614293288823\n",
      "start iteration\n",
      "done sorting\n",
      "end inner loop\n",
      "Iteration 3, inertia 2301.4614293288823\n",
      "center shift 0.000000e+00 within tolerance 4.063697e-04\n",
      "************************************\n",
      "K =  3\n",
      "Initialization complete\n",
      "start iteration\n",
      "done sorting\n",
      "end inner loop\n",
      "Iteration 0, inertia 1834.916275678092\n",
      "start iteration\n",
      "done sorting\n",
      "end inner loop\n",
      "Iteration 1, inertia 1377.6768426050203\n",
      "start iteration\n",
      "done sorting\n",
      "end inner loop\n",
      "Iteration 2, inertia 1271.6064700667298\n",
      "start iteration\n",
      "done sorting\n",
      "end inner loop\n",
      "Iteration 3, inertia 1271.6064700667298\n",
      "center shift 0.000000e+00 within tolerance 4.063697e-04\n",
      "Initialization complete\n",
      "start iteration\n",
      "done sorting\n",
      "end inner loop\n",
      "Iteration 0, inertia 2059.8772362384584\n",
      "start iteration\n",
      "done sorting\n",
      "end inner loop\n",
      "Iteration 1, inertia 1624.9894333967177\n",
      "start iteration\n",
      "done sorting\n",
      "end inner loop\n",
      "Iteration 2, inertia 1518.977386159508\n",
      "start iteration\n",
      "done sorting\n",
      "end inner loop\n",
      "Iteration 3, inertia 1518.8908122060288\n",
      "center shift 1.494176e-02 within tolerance 4.063697e-04\n",
      "Initialization complete\n",
      "start iteration\n",
      "done sorting\n",
      "end inner loop\n",
      "Iteration 0, inertia 1320.8909164808078\n",
      "start iteration\n",
      "done sorting\n",
      "end inner loop\n",
      "Iteration 1, inertia 1271.976449545177\n",
      "start iteration\n",
      "done sorting\n",
      "end inner loop\n",
      "Iteration 2, inertia 1271.6064700667298\n",
      "center shift 1.614030e-02 within tolerance 4.063697e-04\n",
      "************************************\n",
      "K =  4\n",
      "Initialization complete\n",
      "start iteration\n",
      "done sorting\n",
      "end inner loop\n",
      "Iteration 0, inertia 497.26498382227123\n",
      "start iteration\n",
      "done sorting\n",
      "end inner loop\n",
      "Iteration 1, inertia 491.3267219971559\n",
      "start iteration\n",
      "done sorting\n",
      "end inner loop\n",
      "Iteration 2, inertia 491.3267219971559\n",
      "center shift 0.000000e+00 within tolerance 4.063697e-04\n",
      "Initialization complete\n",
      "start iteration\n",
      "done sorting\n",
      "end inner loop\n",
      "Iteration 0, inertia 988.0590770986516\n",
      "start iteration\n",
      "done sorting\n",
      "end inner loop\n",
      "Iteration 1, inertia 599.6175881176628\n",
      "start iteration\n",
      "done sorting\n",
      "end inner loop\n",
      "Iteration 2, inertia 494.74896014678484\n",
      "start iteration\n",
      "done sorting\n",
      "end inner loop\n",
      "Iteration 3, inertia 491.3267219971559\n",
      "start iteration\n",
      "done sorting\n",
      "end inner loop\n",
      "Iteration 4, inertia 491.3267219971559\n",
      "center shift 0.000000e+00 within tolerance 4.063697e-04\n",
      "Initialization complete\n",
      "start iteration\n",
      "done sorting\n",
      "end inner loop\n",
      "Iteration 0, inertia 521.1014810264171\n",
      "start iteration\n",
      "done sorting\n",
      "end inner loop\n",
      "Iteration 1, inertia 491.6415172593626\n",
      "start iteration\n",
      "done sorting\n",
      "end inner loop\n",
      "Iteration 2, inertia 491.3267219971559\n",
      "center shift 1.828366e-02 within tolerance 4.063697e-04\n",
      "************************************\n",
      "K =  5\n",
      "Initialization complete\n",
      "start iteration\n",
      "done sorting\n",
      "end inner loop\n",
      "Iteration 0, inertia 465.7867418429332\n",
      "start iteration\n",
      "done sorting\n",
      "end inner loop\n",
      "Iteration 1, inertia 449.079157717617\n",
      "start iteration\n",
      "done sorting\n",
      "end inner loop\n",
      "Iteration 2, inertia 447.12662559904004\n",
      "start iteration\n",
      "done sorting\n",
      "end inner loop\n",
      "Iteration 3, inertia 446.27582418781435\n",
      "start iteration\n",
      "done sorting\n",
      "end inner loop\n",
      "Iteration 4, inertia 446.13245697820304\n",
      "start iteration\n",
      "done sorting\n",
      "end inner loop\n",
      "Iteration 5, inertia 446.1253923397393\n",
      "center shift 1.070633e-02 within tolerance 4.063697e-04\n",
      "Initialization complete\n",
      "start iteration\n",
      "done sorting\n",
      "end inner loop\n",
      "Iteration 0, inertia 463.7240880247664\n",
      "start iteration\n",
      "done sorting\n",
      "end inner loop\n",
      "Iteration 1, inertia 453.22157379551516\n",
      "start iteration\n",
      "done sorting\n",
      "end inner loop\n",
      "Iteration 2, inertia 452.58753086598153\n",
      "start iteration\n",
      "done sorting\n",
      "end inner loop\n",
      "Iteration 3, inertia 452.1439134852627\n",
      "start iteration\n",
      "done sorting\n",
      "end inner loop\n",
      "Iteration 4, inertia 451.9371748767651\n",
      "start iteration\n",
      "done sorting\n",
      "end inner loop\n",
      "Iteration 5, inertia 451.9109196519669\n",
      "center shift 1.101124e-02 within tolerance 4.063697e-04\n",
      "Initialization complete\n",
      "start iteration\n",
      "done sorting\n",
      "end inner loop\n",
      "Iteration 0, inertia 450.94808638459745\n",
      "start iteration\n",
      "done sorting\n",
      "end inner loop\n",
      "Iteration 1, inertia 446.7016701757862\n",
      "start iteration\n",
      "done sorting\n",
      "end inner loop\n",
      "Iteration 2, inertia 445.74852370282844\n",
      "start iteration\n",
      "done sorting\n",
      "end inner loop\n",
      "Iteration 3, inertia 445.0923520538794\n",
      "start iteration\n",
      "done sorting\n",
      "end inner loop\n",
      "Iteration 4, inertia 444.7568676363865\n",
      "start iteration\n",
      "done sorting\n",
      "end inner loop\n",
      "Iteration 5, inertia 444.74098839502904\n",
      "center shift 1.155483e-02 within tolerance 4.063697e-04\n",
      "************************************\n",
      "K =  6\n",
      "Initialization complete\n",
      "start iteration\n",
      "done sorting\n",
      "end inner loop\n",
      "Iteration 0, inertia 429.76085769951965\n",
      "start iteration\n",
      "done sorting\n",
      "end inner loop\n",
      "Iteration 1, inertia 421.47109303920774\n",
      "start iteration\n",
      "done sorting\n",
      "end inner loop\n",
      "Iteration 2, inertia 417.30065125250326\n",
      "start iteration\n",
      "done sorting\n",
      "end inner loop\n",
      "Iteration 3, inertia 415.2494307029949\n",
      "start iteration\n",
      "done sorting\n",
      "end inner loop\n",
      "Iteration 4, inertia 413.2865865845174\n",
      "start iteration\n",
      "done sorting\n",
      "end inner loop\n",
      "Iteration 5, inertia 411.5318863198071\n",
      "start iteration\n",
      "done sorting\n",
      "end inner loop\n",
      "Iteration 6, inertia 410.56990465898866\n",
      "start iteration\n",
      "done sorting\n",
      "end inner loop\n",
      "Iteration 7, inertia 409.88091398509494\n",
      "start iteration\n",
      "done sorting\n",
      "end inner loop\n",
      "Iteration 8, inertia 408.9429364514618\n",
      "start iteration\n",
      "done sorting\n",
      "end inner loop\n",
      "Iteration 9, inertia 407.4589215312502\n",
      "start iteration\n",
      "done sorting\n",
      "end inner loop\n",
      "Iteration 10, inertia 406.0680134276872\n",
      "start iteration\n",
      "done sorting\n",
      "end inner loop\n",
      "Iteration 11, inertia 405.89439483617684\n",
      "start iteration\n",
      "done sorting\n",
      "end inner loop\n",
      "Iteration 12, inertia 405.75875506006764\n",
      "start iteration\n",
      "done sorting\n",
      "end inner loop\n",
      "Iteration 13, inertia 405.6512530398363\n",
      "start iteration\n",
      "done sorting\n",
      "end inner loop\n",
      "Iteration 14, inertia 405.624564915493\n",
      "center shift 1.229565e-02 within tolerance 4.063697e-04\n",
      "Initialization complete\n",
      "start iteration\n",
      "done sorting\n",
      "end inner loop\n",
      "Iteration 0, inertia 419.0068105659658\n",
      "start iteration\n",
      "done sorting\n",
      "end inner loop\n",
      "Iteration 1, inertia 411.89048226011755\n",
      "start iteration\n",
      "done sorting\n",
      "end inner loop\n",
      "Iteration 2, inertia 409.0186577287273\n",
      "start iteration\n",
      "done sorting\n",
      "end inner loop\n",
      "Iteration 3, inertia 406.4711626816574\n",
      "start iteration\n",
      "done sorting\n",
      "end inner loop\n",
      "Iteration 4, inertia 405.0144235683316\n",
      "start iteration\n",
      "done sorting\n",
      "end inner loop\n",
      "Iteration 5, inertia 404.1426838611085\n",
      "start iteration\n",
      "done sorting\n",
      "end inner loop\n",
      "Iteration 6, inertia 402.9387766299194\n",
      "start iteration\n",
      "done sorting\n",
      "end inner loop\n",
      "Iteration 7, inertia 402.2405949753852\n",
      "start iteration\n",
      "done sorting\n",
      "end inner loop\n",
      "Iteration 8, inertia 401.605805164724\n",
      "start iteration\n",
      "done sorting\n",
      "end inner loop\n",
      "Iteration 9, inertia 401.50798534302373\n",
      "start iteration\n",
      "done sorting\n",
      "end inner loop\n",
      "Iteration 10, inertia 401.43542218413415\n",
      "start iteration\n",
      "done sorting\n",
      "end inner loop\n",
      "Iteration 11, inertia 401.43542218413415\n",
      "center shift 0.000000e+00 within tolerance 4.063697e-04\n",
      "Initialization complete\n",
      "start iteration\n",
      "done sorting\n",
      "end inner loop\n",
      "Iteration 0, inertia 427.70255164376994\n",
      "start iteration\n",
      "done sorting\n",
      "end inner loop\n",
      "Iteration 1, inertia 424.0466880986169\n",
      "start iteration\n",
      "done sorting\n",
      "end inner loop\n",
      "Iteration 2, inertia 422.50022273702837\n",
      "start iteration\n",
      "done sorting\n",
      "end inner loop\n",
      "Iteration 3, inertia 421.7890870245965\n",
      "start iteration\n",
      "done sorting\n",
      "end inner loop\n",
      "Iteration 4, inertia 421.5720462266356\n",
      "start iteration\n",
      "done sorting\n",
      "end inner loop\n",
      "Iteration 5, inertia 421.47154988839\n",
      "start iteration\n",
      "done sorting\n",
      "end inner loop\n",
      "Iteration 6, inertia 421.4324648935269\n",
      "center shift 1.882408e-02 within tolerance 4.063697e-04\n",
      "************************************\n",
      "K =  7\n",
      "Initialization complete\n",
      "start iteration\n",
      "done sorting\n",
      "end inner loop\n",
      "Iteration 0, inertia 383.947698486706\n",
      "start iteration\n",
      "done sorting\n",
      "end inner loop\n",
      "Iteration 1, inertia 371.69689260920103\n",
      "start iteration\n",
      "done sorting\n",
      "end inner loop\n",
      "Iteration 2, inertia 368.4168364852457\n",
      "start iteration\n",
      "done sorting\n",
      "end inner loop\n",
      "Iteration 3, inertia 367.0046891190694\n",
      "start iteration\n",
      "done sorting\n",
      "end inner loop\n",
      "Iteration 4, inertia 366.5545602626663\n",
      "start iteration\n",
      "done sorting\n",
      "end inner loop\n",
      "Iteration 5, inertia 366.2797543793696\n",
      "start iteration\n",
      "done sorting\n",
      "end inner loop\n",
      "Iteration 6, inertia 365.90314229089563\n",
      "start iteration\n",
      "done sorting\n",
      "end inner loop\n",
      "Iteration 7, inertia 365.789336389547\n",
      "start iteration\n",
      "done sorting\n",
      "end inner loop\n",
      "Iteration 8, inertia 365.789336389547\n",
      "center shift 0.000000e+00 within tolerance 4.063697e-04\n",
      "Initialization complete\n",
      "start iteration\n",
      "done sorting\n",
      "end inner loop\n",
      "Iteration 0, inertia 370.853088279022\n",
      "start iteration\n",
      "done sorting\n",
      "end inner loop\n",
      "Iteration 1, inertia 364.91827314981987\n",
      "start iteration\n",
      "done sorting\n",
      "end inner loop\n",
      "Iteration 2, inertia 361.4869417433931\n",
      "start iteration\n",
      "done sorting\n",
      "end inner loop\n",
      "Iteration 3, inertia 359.2057422218113\n",
      "start iteration\n",
      "done sorting\n",
      "end inner loop\n",
      "Iteration 4, inertia 358.3416381360388\n",
      "start iteration\n",
      "done sorting\n",
      "end inner loop\n",
      "Iteration 5, inertia 357.81525104507176\n",
      "start iteration\n",
      "done sorting\n",
      "end inner loop\n",
      "Iteration 6, inertia 357.17513516549684\n",
      "start iteration\n",
      "done sorting\n",
      "end inner loop\n",
      "Iteration 7, inertia 356.5613351029508\n",
      "start iteration\n",
      "done sorting\n",
      "end inner loop\n",
      "Iteration 8, inertia 356.2598700252934\n",
      "start iteration\n",
      "done sorting\n",
      "end inner loop\n",
      "Iteration 9, inertia 356.1412244193356\n",
      "start iteration\n",
      "done sorting\n",
      "end inner loop\n",
      "Iteration 10, inertia 356.068661260446\n",
      "start iteration\n",
      "done sorting\n",
      "end inner loop\n",
      "Iteration 11, inertia 356.068661260446\n",
      "center shift 0.000000e+00 within tolerance 4.063697e-04\n",
      "Initialization complete\n",
      "start iteration\n",
      "done sorting\n",
      "end inner loop\n",
      "Iteration 0, inertia 405.72961959776273\n",
      "start iteration\n",
      "done sorting\n",
      "end inner loop\n",
      "Iteration 1, inertia 396.2172503457987\n",
      "start iteration\n",
      "done sorting\n",
      "end inner loop\n",
      "Iteration 2, inertia 389.9319606720727\n",
      "start iteration\n",
      "done sorting\n",
      "end inner loop\n",
      "Iteration 3, inertia 385.4424181002233\n",
      "start iteration\n",
      "done sorting\n",
      "end inner loop\n",
      "Iteration 4, inertia 382.44824117673824\n",
      "start iteration\n",
      "done sorting\n",
      "end inner loop\n",
      "Iteration 5, inertia 380.6085064990405\n",
      "start iteration\n",
      "done sorting\n",
      "end inner loop\n",
      "Iteration 6, inertia 379.9529892757623\n",
      "start iteration\n",
      "done sorting\n",
      "end inner loop\n",
      "Iteration 7, inertia 378.837083247215\n",
      "start iteration\n",
      "done sorting\n",
      "end inner loop\n",
      "Iteration 8, inertia 377.0431689849046\n",
      "start iteration\n",
      "done sorting\n",
      "end inner loop\n",
      "Iteration 9, inertia 376.1849563712259\n",
      "start iteration\n",
      "done sorting\n",
      "end inner loop\n",
      "Iteration 10, inertia 376.022677174924\n",
      "start iteration\n",
      "done sorting\n",
      "end inner loop\n",
      "Iteration 11, inertia 375.8549260341\n",
      "start iteration\n",
      "done sorting\n",
      "end inner loop\n",
      "Iteration 12, inertia 375.7474240138687\n",
      "start iteration\n",
      "done sorting\n",
      "end inner loop\n",
      "Iteration 13, inertia 375.7207358895254\n",
      "center shift 1.229565e-02 within tolerance 4.063697e-04\n"
     ]
    },
    {
     "data": {
      "text/plain": [
       "<matplotlib.text.Text at 0x7efd1b070438>"
      ]
     },
     "execution_count": 58,
     "metadata": {},
     "output_type": "execute_result"
    },
    {
     "data": {
      "image/png": "[encoded data removed]",
      "text/plain": [
       "<matplotlib.figure.Figure at 0x7efd1af63a20>"
      ]
     },
     "metadata": {},
     "output_type": "display_data"
    }
   ],
   "source": [
    "from sklearn.cluster import KMeans\n",
    "J=np.zeros((8,))\n",
    "for K in range(1,8):\n",
    "    print('************************************')\n",
    "    print('K = ',K)\n",
    "    clust=KMeans(n_clusters=K,n_init=3,verbose=1)\n",
    "    Ckm=clust.fit_predict(X)\n",
    "    J[K]=clust.inertia_\n",
    "    \n",
    "f, axarr = plt.subplots(2, sharex=True)\n",
    "\n",
    "axarr[0].plot(np.arange(1,8),J[1:8])  \n",
    "axarr[0].set_title('évolution du critère')\n",
    "axarr[1].plot(np.arange(2,8),(J[1:7]-J[2:8])/J[1:7])\n",
    "axarr[1].set_title('évolution relative du critère')   "
   ]
  },
  {
   "cell_type": "markdown",
   "metadata": {},
   "source": [
    "K=3 semble ici le meilleur choix du nombre de classes car le critère de la somme des inerties ne diminue plus de façon significative quand on passe de 3 à 4 groupes"
   ]
  },
  {
   "cell_type": "markdown",
   "metadata": {},
   "source": [
    "#References\n",
    "\n"
   ]
  }
 ],
 "metadata": {
  "anaconda-cloud": {},
  "kernelspec": {
   "display_name": "Python 3 (ipykernel)",
   "language": "python",
   "name": "python3"
  },
  "language_info": {
   "codemirror_mode": {
    "name": "ipython",
    "version": 3
   },
   "file_extension": ".py",
   "mimetype": "text/x-python",
   "name": "python",
   "nbconvert_exporter": "python",
   "pygments_lexer": "ipython3",
   "version": "3.10.0"
  }
 },
 "nbformat": 4,
 "nbformat_minor": 1
}
