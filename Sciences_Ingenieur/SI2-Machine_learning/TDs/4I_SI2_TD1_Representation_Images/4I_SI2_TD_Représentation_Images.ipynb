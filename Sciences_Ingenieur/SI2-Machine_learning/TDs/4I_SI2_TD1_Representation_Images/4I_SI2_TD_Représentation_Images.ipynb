{
 "cells": [
  {
   "cell_type": "markdown",
   "metadata": {},
   "source": [
    "# TD - Représentation d'images\n",
    "Dans ce TD, nous nous interesons à la représentation d'images par leur [histogramme couleur](https://en.wikipedia.org/wiki/Color_histogram)."
   ]
  },
  {
   "cell_type": "code",
   "execution_count": null,
   "metadata": {},
   "outputs": [],
   "source": [
    "import numpy as np\n",
    "import matplotlib.pyplot as plt\n",
    "%matplotlib inline"
   ]
  },
  {
   "cell_type": "markdown",
   "metadata": {},
   "source": [
    "En indexation de donnée par le contenu, une problématique courante est la recherche par similarité de documents. Le but de trier l'ensemble des documents d'une base de donnée du plus similaire au moins similaire par rapport à un document requête en utilisant uniquement des informations extraites des documents.\n",
    "\n",
    "Dans ce TD, nous voulons faire de la recherche par similarité d'images. Comme pour le texte, nous ne pouvons pas utiliser directement l'image. Nous devons dans un premier temps extraire des paramètres (features) des images. Puis nous utilisons une métrique pour mesurer la similarité entre les images. Nous pouvons alors trier les images par rapport à leur similarité avec l'image requête.\n",
    "\n",
    "## Holidays dataset\n",
    "Pour nos expériences, nous utilisons la base d'image [Holidays dataset](http://lear.inrialpes.fr/~jegou/data.php). Cette base de 1491 images provenant de photos de vacances. Les autres ont pris en compte de tester la robustesse de diverses attaques: les rotations, les changements de points de vue et d'éclairage, le flou, etc. L'ensemble de données comprend une très grande variété de types de scène (effets naturels, artificiels, d'eau et de feu, etc.). L'ensemble de données  sont regroupé en 500 groupes d'images, chacun représentant une scène ou un objet distinct. La première image de chaque groupe est l'image de requête et l'objectif est de récupérer en premier les autres images du groupe.\n",
    "\n",
    "<center><img src=\"./holidays.jpg\" width=800px></center>\n",
    "\n",
    "Le code suivant permet de crée la liste des images de la base :"
   ]
  },
  {
   "cell_type": "code",
   "execution_count": null,
   "metadata": {},
   "outputs": [],
   "source": [
    "import glob\n",
    "import os\n",
    "\n",
    "images_dir = './Holidays_dataset'\n",
    "\n",
    "image_file_names = sorted([os.path.split(f)[1] for f in glob.glob(os.path.join(images_dir, '*.jpg'))])\n",
    "\n",
    "N = len(image_file_names)"
   ]
  },
  {
   "cell_type": "markdown",
   "metadata": {},
   "source": [
    "Le groupe des images et leurs indices dans le groupe sont codés dans leurs noms. Par exemple l'image `100502.jpg` est la $3^\\text{éme}$ image du $6^\\text{éme}$ groupe :\n",
    "- `1`**`005`**`02.jpg` $\\Rightarrow 6^\\text{éme}$ groupe\n",
    "- `1005`**`02`**`.jpg` $\\Rightarrow 3^\\text{éme}$ image du groupe\n",
    "L'image qui est utilisé comme requête dans chaque groupe est la $1^\\text{ére}$ image du groupe (`1005`**`00`**`.jpg`).\n",
    "\n",
    "Le code suivant permet de récupéré les groupes de chaque image et les images requêtes:"
   ]
  },
  {
   "cell_type": "code",
   "execution_count": null,
   "metadata": {},
   "outputs": [],
   "source": [
    "y = np.asarray([int(f[1:4]) for f in image_file_names]) # verite terrain: recupere pour chaque imag le num de son groupe (ex:005 au dessus) \n",
    "queries = np.asarray([f.endswith('00.jpg') for f in image_file_names]) # vecteur de booléens : VRAI aux indices des images servant de requetes (celles finissant par 000)"
   ]
  },
  {
   "cell_type": "markdown",
   "metadata": {},
   "source": [
    "- `y` $\\in \\mathbb{N}^N$ est le vecteur de l'indice de groupe pour chaque image.\n",
    "- `queries` $\\in \\{\\text{False},\\text{True}\\}^N$ est le vecteur booléen qui indique si l'image est une requête ou non.\n",
    "\n",
    "**À faire -** Écrivez le code pour ouvrir toutes les images de la base et stockées les dans la liste `images`.\n",
    "\n",
    "**Aide -** Regardez l'aide des fonctions : [`scipy.misc.imread`](https://docs.scipy.org/doc/scipy-0.19.0/reference/generated/scipy.misc.imread.html), [`os.path.join`](https://docs.python.org/3/library/os.path.html#os.path.join) et [les listes en python](https://docs.python.org/3/tutorial/datastructures.html#more-on-lists)"
   ]
  },
  {
   "cell_type": "code",
   "execution_count": null,
   "metadata": {},
   "outputs": [],
   "source": [
    "# from scipy.misc import imread\n",
    "# ou\n",
    "!pip3 install imageio --user\n",
    "from imageio import imread\n",
    "\n",
    "images = []\n",
    "\n",
    "# à compléter"
   ]
  },
  {
   "cell_type": "markdown",
   "metadata": {},
   "source": [
    "**À faire** - À l'aide de la fonction [`matplotlib.pyplot.imshow`](https://matplotlib.org/api/pyplot_api.html#matplotlib.pyplot.imshow), visualisez un image de la base."
   ]
  },
  {
   "cell_type": "code",
   "execution_count": null,
   "metadata": {},
   "outputs": [],
   "source": [
    "# à compléter"
   ]
  },
  {
   "cell_type": "markdown",
   "metadata": {},
   "source": [
    "**À faire** - Affichez les dimentions de l'image ([`numpy.ndarray.shape`](https://docs.scipy.org/doc/numpy/reference/generated/numpy.ndarray.shape.html))"
   ]
  },
  {
   "cell_type": "code",
   "execution_count": null,
   "metadata": {},
   "outputs": [],
   "source": [
    "# à compléter"
   ]
  },
  {
   "cell_type": "markdown",
   "metadata": {},
   "source": [
    "**Question** - À quoi corresponde ces trois dimensions ?"
   ]
  },
  {
   "cell_type": "markdown",
   "metadata": {},
   "source": [
    "- la première dimension est la hauteur de l'image\n",
    "- la deuxième dimension est la largeur de l'image\n",
    "- la troisième dimension est les codage RGB des couleurs de l'image"
   ]
  },
  {
   "cell_type": "markdown",
   "metadata": {},
   "source": [
    "## Histogramme couleur\n",
    "\n",
    "Pour représenté les images, nous utilisons l'histogramme de la proportion des couleurs dans l'image. \n",
    "\n",
    "Le codage [RGB](https://en.wikipedia.org/wiki/RGB_color_model) (Red, Green, Blue) sur 24 bits (3 canaux de 8 bits) permet de coder : 16777216 couleurs differentes.\n",
    "\n",
    "**Question -** Est il judicieux d'utiliser toutes les couleurs pour calculer l'histogramme couleur des images ?"
   ]
  },
  {
   "cell_type": "markdown",
   "metadata": {},
   "source": [
    "Non car nous obtiendrons un vecteur de 16777216 dimensions pour représenter chaque image, c'est beaucoup trop grand."
   ]
  },
  {
   "cell_type": "markdown",
   "metadata": {},
   "source": [
    "### Réduction du nombre de couleur\n",
    "Nous voulons alors réduire le nombre de couleur utilisé. Pour cela, il est judicieux de rechercher les $P$ couleurs les plus couramment utilisées dans nos images et ensuite de remplacer pour chaque pixel de chaque image la couleur du pixel par la couleur la plus proche parmi les $P$ couleurs les plus courantes. Cette méthode s'appelle la [quantification couleur](https://en.wikipedia.org/wiki/Color_quantization) et elle est basé sur l'utilisation d'algorithme de [clustering](https://en.wikipedia.org/wiki/Cluster_analysis).\n",
    "\n",
    "Pour trouver les couleurs les plus couramment utilisées, nous devons extraire des images l'ensemble des pixels de toute les images et les rassembler dans une matrice.\n",
    "\n",
    "**À faire -** Ecrivez le code pour extraire tous les pixels de toutes les images stockées dans la matrice `rgb_samples` de dimension $\\text{nombre total de pixel}\\times 3$\n",
    "\n",
    "**Aide -** Regardez l'aide des fonctions : [`numpy.reshape`](https://docs.scipy.org/doc/numpy/reference/generated/numpy.reshape.html) (lire attentivement la description du paramètre `newshape`) et [`numpy.vstack`](https://docs.scipy.org/doc/numpy/reference/generated/numpy.vstack.html)"
   ]
  },
  {
   "cell_type": "code",
   "execution_count": null,
   "metadata": {},
   "outputs": [],
   "source": [
    "# à compléter"
   ]
  },
  {
   "cell_type": "markdown",
   "metadata": {},
   "source": [
    "Nous obtenons un échantillon de plus de 72 millions de couleurs RGB, c'est beaucoup trop. Nous allons en choisir aléatoirement un petit nombre.\n",
    "\n",
    "**À faire -** Ecrivez le code pour choisir aléatoirement 100000 exemples de couleurs RGB dans la matrice `rgb_samples` et stockez les à nouveau dans la matrice `rgb_samples`.\n",
    "\n",
    "**Aide -** Regardez l'aide de la fonction : [`numpy.random.choice`](https://docs.scipy.org/doc/numpy/reference/generated/numpy.random.choice.html) (lire attentivement la description du paramètre `replace`)"
   ]
  },
  {
   "cell_type": "code",
   "execution_count": null,
   "metadata": {},
   "outputs": [],
   "source": [
    "# à compléter"
   ]
  },
  {
   "cell_type": "markdown",
   "metadata": {},
   "source": [
    "Pour déterminer les $P$ couleur les plus courantes, nous allons utiliser l'algorithme [K-Means](https://en.wikipedia.org/wiki/K-means_clustering).\n",
    "\n",
    "**À faire -** Ecrivez le code pour effectuer un clustering de 128 clusters ($P=128$) avec algorithme K-Means sur notre échantillon de couleur RGB `rgb_samples`.\n",
    "\n",
    "**Aide -** Regardez l'aide de la fonction : [`sklearn.cluster.KMeans`](http://scikit-learn.org/stable/modules/generated/sklearn.cluster.KMeans.html)\n",
    "\n",
    "**Conseil -** Fixez le paramète `n_init` à 1."
   ]
  },
  {
   "cell_type": "code",
   "execution_count": null,
   "metadata": {},
   "outputs": [],
   "source": [
    "from sklearn.cluster import KMeans\n",
    "\n",
    "# à compléter"
   ]
  },
  {
   "cell_type": "markdown",
   "metadata": {},
   "source": [
    "La fonction suivant permet de réorganiser les couleurs  obtenue par le clustering dans l'ordre des teintes du codage couleur [HSV](https://fr.wikipedia.org/wiki/Teinte_Saturation_Valeur)"
   ]
  },
  {
   "cell_type": "code",
   "execution_count": null,
   "metadata": {},
   "outputs": [],
   "source": [
    "import colorsys\n",
    "def reorganize_clusters(kms):\n",
    "    h = np.zeros((kms.n_clusters, ))\n",
    "    for i in range(kms.n_clusters):\n",
    "        r,g,b = kms.cluster_centers_[i,:]/255.0\n",
    "        h[i] = colorsys.rgb_to_hsv(r, g, b)[0]\n",
    "    idx = np.argsort(h)\n",
    "    kms.cluster_centers_ = kms.cluster_centers_[idx,:]"
   ]
  },
  {
   "cell_type": "markdown",
   "metadata": {},
   "source": [
    "Nous l'appliquons sur notre objet KMeans"
   ]
  },
  {
   "cell_type": "code",
   "execution_count": null,
   "metadata": {},
   "outputs": [],
   "source": [
    "# à compléter"
   ]
  },
  {
   "cell_type": "markdown",
   "metadata": {},
   "source": [
    "**À faire -** Ecrivez le code pour afficher l'image de la palette couleur obtenu avec le clustering (par exemple, une image de 8 ligne par ? pixels).\n",
    "\n",
    "**Aide -** Regardez l'aide des fonctions : [`numpy.reshape`](https://docs.scipy.org/doc/numpy/reference/generated/numpy.reshape.html) et [`matplotlib.pyplot.imshow`](https://matplotlib.org/api/pyplot_api.html#matplotlib.pyplot.imshow)\n",
    "\n",
    "**Conseil -** Ajoutez le paramètre : `interpolation='nearest'` pour la fonction `imshow`."
   ]
  },
  {
   "cell_type": "code",
   "execution_count": null,
   "metadata": {},
   "outputs": [],
   "source": [
    "# à compléter"
   ]
  },
  {
   "cell_type": "markdown",
   "metadata": {},
   "source": [
    "Nous voulons voir l'effet de la quantification couleur sur une image.\n",
    "\n",
    "**À faire -** Choisissez aléatoirement une des images et écrivez le code pour obtenir sa version quantifiée. Puis affichez les deux images pour les comparer.\n",
    "\n",
    "**Aide -** Regardez l'aide des fonctions : [`sklearn.cluster.KMeans.predict`](http://scikit-learn.org/stable/modules/generated/sklearn.cluster.KMeans.html#sklearn.cluster.KMeans.predict), [`numpy.reshape`](https://docs.scipy.org/doc/numpy/reference/generated/numpy.reshape.html) et [`matplotlib.pyplot.imshow`](https://matplotlib.org/api/pyplot_api.html#matplotlib.pyplot.imshow)"
   ]
  },
  {
   "cell_type": "code",
   "execution_count": null,
   "metadata": {},
   "outputs": [],
   "source": [
    "# à compléter"
   ]
  },
  {
   "cell_type": "markdown",
   "metadata": {},
   "source": [
    "Nous maintenant calculer, histogramme couleur d'un image avec les couleurs obtenu apres quantification.\n",
    "\n",
    "**À faire -** Completez la fonction `def compute_hist(kmeans, I)` qui retourne un vecteur contenant la proportion de chaque couleur dans dans l'image `I`.\n",
    "\n",
    "**Aide -** Regardez l'aide des fonctions : [`sklearn.cluster.KMeans.predict`](http://scikit-learn.org/stable/modules/generated/sklearn.cluster.KMeans.html#sklearn.cluster.KMeans.predict), [`numpy.reshape`](https://docs.scipy.org/doc/numpy/reference/generated/numpy.reshape.html) et [`numpy.unique`](https://docs.scipy.org/doc/numpy/reference/generated/numpy.unique.html) (lire attentivement la description du paramètre `return_counts`)."
   ]
  },
  {
   "cell_type": "code",
   "execution_count": null,
   "metadata": {},
   "outputs": [],
   "source": [
    "def compute_hist(kmeans, I):\n",
    "    # à compléter"
   ]
  },
  {
   "cell_type": "markdown",
   "metadata": {},
   "source": [
    "Nous voulons visualier l'histogramme couleur une image\n",
    "\n",
    "**À faire -** Choisissez aléatoirement une des images, utilisez la fonction `def compute_hist(kmeans, I)` pour calculer son histogramme couleur et affichez le.\n",
    "\n",
    "**Aide -** Regardez l'aide de la fonction : [`matplotlib.pyplot.bar`](https://matplotlib.org/api/pyplot_api.html#matplotlib.pyplot.bar)\n",
    "\n",
    "\n",
    "**Conseil -** Ajoutez les paramètres : `width = 1`, `color=palette/255.0` et `edgecolor = 'none'` pour la fonction `bar`."
   ]
  },
  {
   "cell_type": "code",
   "execution_count": null,
   "metadata": {},
   "outputs": [],
   "source": [
    "# à compléter"
   ]
  },
  {
   "cell_type": "markdown",
   "metadata": {},
   "source": [
    "**À faire -** Ecrivez le code pour calculer l'histogramme couleur de toutes les images et stockez les dans la matrice `X`."
   ]
  },
  {
   "cell_type": "code",
   "execution_count": null,
   "metadata": {},
   "outputs": [],
   "source": [
    "# à compléter"
   ]
  },
  {
   "cell_type": "markdown",
   "metadata": {},
   "source": [
    "## Recherche par similarité\n",
    "\n",
    "**À faire -** Ecrivez le code pour calculer la distance Euclidienne entre les images requetes et toutes les images, stockez les resultats dans la matrice `dist`.\n",
    "\n",
    "**Aide -** Regardez l'aide de la fonction : [`sklearn.metrics.pairwise.euclidean_distances`](http://scikit-learn.org/stable/modules/generated/sklearn.metrics.pairwise.euclidean_distances.html)"
   ]
  },
  {
   "cell_type": "code",
   "execution_count": null,
   "metadata": {},
   "outputs": [],
   "source": [
    "from sklearn.metrics.pairwise import euclidean_distances\n",
    "\n",
    "# à compléter"
   ]
  },
  {
   "cell_type": "markdown",
   "metadata": {},
   "source": [
    "**À faire -** Ecrivez le code pour afficher la matrice des distance `dist`.\n",
    "\n",
    "**Aide -** Regardez l'aide de la fonction : [`matplotlib.pyplot.matshow`](https://matplotlib.org/api/pyplot_api.html#matplotlib.pyplot.matshow)"
   ]
  },
  {
   "cell_type": "code",
   "execution_count": null,
   "metadata": {},
   "outputs": [],
   "source": [
    "# à compléter"
   ]
  },
  {
   "cell_type": "markdown",
   "metadata": {},
   "source": [
    "**À faire -** Choisissez une requete et ecrivez le code pour afficher les 15 images les plus similaire a la requete.\n",
    "\n",
    "**Aide -** Regardez l'aide des fonctions : [`numpy.argsort`](https://docs.scipy.org/doc/numpy/reference/generated/numpy.argsort.html), [`matplotlib.pyplot.imshow`](https://matplotlib.org/api/pyplot_api.html#matplotlib.pyplot.imshow) et [`matplotlib.pyplot.subplot`](https://matplotlib.org/api/pyplot_api.html#matplotlib.pyplot.subplot)"
   ]
  },
  {
   "cell_type": "code",
   "execution_count": null,
   "metadata": {},
   "outputs": [],
   "source": [
    "# à compléter"
   ]
  },
  {
   "cell_type": "markdown",
   "metadata": {},
   "source": [
    "Pour evaluer la performance de notre representation et de la metrique que nous utilisons pour calculer la distance entre les images, nous utilisons la mesure de performence officiler de la base Holidays le mAP ([mean Average Precision](https://en.wikipedia.org/wiki/Information_retrieval#Mean_average_precision)).\n",
    "\n",
    "La fonction `def score_map(dist, y, queries)` retourne le mAP pour la matrice de distance `dist`."
   ]
  },
  {
   "cell_type": "code",
   "execution_count": null,
   "metadata": {},
   "outputs": [],
   "source": [
    "def score_ap_from_ranks_1 (ranks, nres):\n",
    "    ap=0.0\n",
    "    recall_step=1.0/nres\n",
    "    for ntp,rank in enumerate(ranks):\n",
    "        if rank==0: \n",
    "            precision_0=1.0\n",
    "        else:\n",
    "            precision_0=ntp/float(rank)\n",
    "        precision_1=(ntp+1)/float(rank+1)\n",
    "        ap+=(precision_1+precision_0)*recall_step/2.0\n",
    "    return ap\n",
    "\n",
    "def score_map(dist, y, queries):\n",
    "    queries_label = -1*np.ones(queries.shape)\n",
    "    queries_label[queries] = y[queries]\n",
    "    \n",
    "    idxsortdist = np.argsort(dist, axis=1)\n",
    "    \n",
    "    mAP = 0.0;\n",
    "\n",
    "    for r in y[queries]:\n",
    "        y_r = y[idxsortdist[r,:]]\n",
    "        queries_label_r = queries_label[idxsortdist[r,:]]\n",
    "        \n",
    "        nres = np.sum(np.logical_and(y == r, queries_label != r))\n",
    "        \n",
    "        tp_ranks = np.sort(np.where(y_r[queries_label_r != r] == r)[0])\n",
    "        \n",
    "        ap = score_ap_from_ranks_1 (tp_ranks, nres)\n",
    "\n",
    "        mAP += ap\n",
    "    return mAP/ np.sum(queries) * 100.0"
   ]
  },
  {
   "cell_type": "markdown",
   "metadata": {},
   "source": [
    "**À faire -** Ecrivez le code pour calculer la performence de notre representation avec la distance euclidienne."
   ]
  },
  {
   "cell_type": "code",
   "execution_count": null,
   "metadata": {},
   "outputs": [],
   "source": [
    "# à compléter"
   ]
  },
  {
   "cell_type": "markdown",
   "metadata": {},
   "source": [
    "Nous pouvons nous comparer aux performances de l'état de l'art sur le [site de la base Holidays](http://lear.inrialpes.fr/~jegou/holidays_state_of_art.html) (section : Global descriptors)"
   ]
  }
 ],
 "metadata": {
  "anaconda-cloud": {},
  "kernelspec": {
   "display_name": "Python 3",
   "language": "python",
   "name": "python3"
  },
  "language_info": {
   "codemirror_mode": {
    "name": "ipython",
    "version": 3
   },
   "file_extension": ".py",
   "mimetype": "text/x-python",
   "name": "python",
   "nbconvert_exporter": "python",
   "pygments_lexer": "ipython3",
   "version": "3.7.3"
  }
 },
 "nbformat": 4,
 "nbformat_minor": 1
}
